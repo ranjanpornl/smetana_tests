{
 "cells": [
  {
   "cell_type": "code",
   "execution_count": 1,
   "id": "3473f6ce-821c-47ca-859d-e8e30fb6a550",
   "metadata": {},
   "outputs": [],
   "source": [
    "# Models for 10 microbes were created in notebook 01_build_models.ipynb\n",
    "# In this notebook, we will run smetana on a subset of those microbes"
   ]
  },
  {
   "cell_type": "code",
   "execution_count": 3,
   "id": "f99d72a8-fc9a-4fde-b0f5-40b330cfc623",
   "metadata": {},
   "outputs": [],
   "source": [
    "# First we will run smetana without any media input"
   ]
  },
  {
   "cell_type": "code",
   "execution_count": 4,
   "id": "a2e8e187-8d37-40a9-9db4-06044dee993f",
   "metadata": {},
   "outputs": [
    {
     "name": "stdout",
     "output_type": "stream",
     "text": [
      "Set parameter Username\n",
      "Academic license - for non-commercial use only - expires 2022-06-25\n",
      "Set parameter Username\n",
      "Academic license - for non-commercial use only - expires 2022-06-25\n",
      "Set parameter Username\n",
      "Academic license - for non-commercial use only - expires 2022-06-25\n",
      "Set parameter Username\n",
      "Academic license - for non-commercial use only - expires 2022-06-25\n"
     ]
    }
   ],
   "source": [
    "%%sh\n",
    "\n",
    "#Copy just the selected models to a new  folder to run smetana\n",
    "mkdir -p ../syncom1\n",
    "cp ../proteins_and_models/Pseudomonas_GM17_pacbio_v2.xml ../syncom1\n",
    "cp ../proteins_and_models/Rhizobium_CF142_pacbio_v2.xml ../syncom1\n",
    "cp ../proteins_and_models/Sphingobium_AP49_pacbio_v2.xml ../syncom1\n",
    "cp ../proteins_and_models/Variovorax_CF313_pacbio_v2.xml ../syncom1\n",
    "\n",
    "\n",
    "#Run smetana global and detailed two times\n",
    "\n",
    "cd ../syncom1\n",
    "#First global run\n",
    "smetana *.xml -g -o v1_output\n",
    "#Second global run\n",
    "smetana *.xml -g -o v2_output\n",
    "\n",
    "#First detailed run\n",
    "smetana *.xml -d -o v1_output\n",
    "#Second detailed run\n",
    "smetana *.xml -d -o v2_output\n",
    "\n"
   ]
  },
  {
   "cell_type": "code",
   "execution_count": 5,
   "id": "f860e776-a7c2-498c-a8b5-d5c6a52de1bd",
   "metadata": {},
   "outputs": [
    {
     "name": "stdout",
     "output_type": "stream",
     "text": [
      "/Users/4pz/Desktop/new/notebooks\n"
     ]
    }
   ],
   "source": [
    "%%sh\n",
    "\n",
    "cd ../syncom1\n"
   ]
  },
  {
   "cell_type": "code",
   "execution_count": null,
   "id": "878d9f23-ae9e-42db-b362-dc4fe044770d",
   "metadata": {},
   "outputs": [],
   "source": []
  }
 ],
 "metadata": {
  "kernelspec": {
   "display_name": "Python 3 (ipykernel)",
   "language": "python",
   "name": "python3"
  },
  "language_info": {
   "codemirror_mode": {
    "name": "ipython",
    "version": 3
   },
   "file_extension": ".py",
   "mimetype": "text/x-python",
   "name": "python",
   "nbconvert_exporter": "python",
   "pygments_lexer": "ipython3",
   "version": "3.8.8"
  }
 },
 "nbformat": 4,
 "nbformat_minor": 5
}
